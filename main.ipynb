{
 "cells": [
  {
   "cell_type": "code",
   "execution_count": 42,
   "metadata": {},
   "outputs": [],
   "source": [
    "import json\n",
    "\n",
    "file_path = \"./log_longer.json\"\n",
    "data = \"\"\n",
    "\n",
    "with open(file_path, 'r') as file:\n",
    "    data = json.load(file)"
   ]
  },
  {
   "cell_type": "code",
   "execution_count": 43,
   "metadata": {},
   "outputs": [],
   "source": [
    "import unidecode\n",
    "import re\n",
    "\n",
    "def normalize_text(text):\n",
    "    # Convert to lowercase\n",
    "    text = text.lower()\n",
    "    \n",
    "    # Remove accents and special characters using unidecode\n",
    "    text = unidecode.unidecode(text)\n",
    "    \n",
    "    # Remove special characters (keep alphanumeric and spaces)\n",
    "    text = re.sub(r'[^a-z0-9\\s]', '', text)\n",
    "    \n",
    "    # Remove extra spaces\n",
    "    text = re.sub(r'\\s+', ' ', text).strip()\n",
    "    \n",
    "    return text\n",
    "\n",
    "def clamp(value, min_value, max_value):\n",
    "    return max(min_value, min(value, max_value))"
   ]
  },
  {
   "cell_type": "code",
   "execution_count": 44,
   "metadata": {},
   "outputs": [],
   "source": [
    "class Message():\n",
    "    def __init__(self, id: int, login: str, date_time: str, msg: str, viewed_by: list[int]):\n",
    "        self.id = id\n",
    "        self.login = login\n",
    "        self.date_time = date_time\n",
    "        self.msg = msg\n",
    "        self.viewed_by = viewed_by\n",
    "        \n",
    "    def __repr__(self):\n",
    "        return f\"Message(id='{self.id}', login='{self.login}', date='{self.date_time}', msg='{self.msg}', viewed_by='{self.viewed_by}')\"\n",
    "    \n",
    "class Match():\n",
    "    def __init__(self, message: Message, context: list[Message]):\n",
    "        self.message = message\n",
    "        self.context = context\n",
    "        \n",
    "def get_context(messages: list[Message], index: int):\n",
    "    context = []\n",
    "    bottom = clamp(index - 10, 0, len(messages))\n",
    "    top = clamp(index + 10, 0, len(messages))\n",
    "    \n",
    "    for i in range(bottom, top):\n",
    "        context.append(messages[i])\n",
    "        \n",
    "    return context"
   ]
  },
  {
   "cell_type": "code",
   "execution_count": 45,
   "metadata": {},
   "outputs": [],
   "source": [
    "messages_json = data[\"msgs\"]\n",
    "\n",
    "messages = []\n",
    "\n",
    "for message in messages_json:\n",
    "    if \"content\" not in message[\"msg\"]:\n",
    "        continue\n",
    "    \n",
    "    id = message[\"sender\"][\"id\"]\n",
    "    login = message[\"sender\"][\"login\"]\n",
    "    date_time = message[\"dt\"]\n",
    "    msg = normalize_text(message[\"msg\"][\"content\"])\n",
    "    viewed_by = message[\"visReceipt\"]\n",
    "    message_user = Message(id, login, date_time, msg, viewed_by)\n",
    "    \n",
    "    messages.append(message_user)\n",
    "    "
   ]
  },
  {
   "cell_type": "code",
   "execution_count": 65,
   "metadata": {},
   "outputs": [],
   "source": [
    "\n",
    "with open(\"output.txt\", \"w\") as file:\n",
    "    for message in messages:\n",
    "        file.write(f\"- {message.login}\\n\")\n",
    "        file.write(f\"{message.msg}\\n\")\n",
    "        file.write(\"-----------------------\\n\")"
   ]
  }
 ],
 "metadata": {
  "kernelspec": {
   "display_name": "env",
   "language": "python",
   "name": "python3"
  },
  "language_info": {
   "codemirror_mode": {
    "name": "ipython",
    "version": 3
   },
   "file_extension": ".py",
   "mimetype": "text/x-python",
   "name": "python",
   "nbconvert_exporter": "python",
   "pygments_lexer": "ipython3",
   "version": "3.12.3"
  }
 },
 "nbformat": 4,
 "nbformat_minor": 2
}
